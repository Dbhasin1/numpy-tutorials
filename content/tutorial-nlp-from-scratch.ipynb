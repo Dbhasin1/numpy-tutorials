{
 "cells": [
  {
   "cell_type": "markdown",
   "id": "f0ead2c1",
   "metadata": {},
   "source": [
    "# Sentiment Analysis on notable speeches of the last decade\n",
    "\n",
    "This tutorial demonstrates how to build a simple <a href = 'https://en.wikipedia.org/wiki/Long_short-term_memory'> Long Short Term memory network (LSTM) </a> from scratch in NumPy to perform sentiment analysis on a socially relevant and ethically acquired dataset.\n",
    "\n",
    "Your deep learning model (the LSTM) is a form of a Recurrent Neural Network and will learn to classify a piece of text as positive or negative from the IMDB reviews dataset. The dataset contains 40,000 training and 10,000 test reviews and corresponding labels. Based on the numeric representations of these reviews and their corresponding labels <a href = 'https://en.wikipedia.org/wiki/Supervised_learning'> (supervised learning) </a> the neural network will be trained to learn the sentiment using forward propagation and backpropagation through time since we are dealing with sequential data here. The output will be a vector containing the probabilities that the text samples are positive."
   ]
  },
  {
   "cell_type": "markdown",
   "id": "e082526b",
   "metadata": {},
   "source": [
    "Today, Deep Learning is getting adopted in everyday life and now it is more important to ensure that decisions that have been taken using AI are not reflecting discriminatory behavior towards a set of populations. It is important to take fairness into consideration while consuming the output from AI. Throughout the tutorial we'll try to question all the steps in our pipeline from an ethics point of view."
   ]
  },
  {
   "cell_type": "markdown",
   "id": "531da36c",
   "metadata": {},
   "source": [
    "## Prerequisites \n",
    "\n",
    "You are expected to be familiar with the Python programming language and array manipulation with NumPy. In addition, some understanding of Linear Algebra and Calculus is recommended. You should also be familiar with how Neural Networks work. For reference, you can visit the [Python](https://docs.python.org/dev/tutorial/index.html), [Linear algebra on n-dimensional arrays](https://numpy.org/doc/stable/user/tutorial-svd.html) and [Calculus](https://d2l.ai/chapter_appendix-mathematics-for-deep-learning/multivariable-calculus.html) tutorials.\n",
    "\n",
    "To get a refresher on Deep Learning basics, You should consider reading [the d2l.ai book](https://d2l.ai/chapter_recurrent-neural-networks/index.html), which is an interactive deep learning book with multi-framework code, math, and discussions. You can also go through the [Deep learning on MNIST from scratch tutorial](https://numpy.org/numpy-tutorials/content/tutorial-deep-learning-on-mnist.html) to understand how a basic neural network is implemented from scratch.\n",
    "\n",
    "In addition to NumPy, you will be utilizing the following Python standard modules for data loading and processing:\n",
    "- [`pandas`](https://pandas.pydata.org/docs/) for handling dataframes \n",
    "- [`Matplotlib`](https://matplotlib.org/) for data visualization\n",
    "- [`pooch`](https://www.fatiando.org/pooch/latest/https://www.fatiando.org/pooch/latest/) to download and cache datasets\n",
    "\n",
    "This tutorial can be run locally in an isolated environment, such as [Virtualenv](https://virtualenv.pypa.io/en/stable/) or [conda](https://docs.conda.io/projects/conda/en/latest/user-guide/tasks/manage-environments.html). You can use [Jupyter Notebook or JupyterLab](https://jupyter.org/install) to run each notebook cell."
   ]
  },
  {
   "cell_type": "markdown",
   "id": "aa5c9b86",
   "metadata": {},
   "source": [
    "## Table of contents\n",
    "\n",
    "1. Data Collection \n",
    "\n",
    "2. Preprocess the datasets\n",
    "\n",
    "3. Build and train a LSTM network from scratch\n",
    "\n",
    "4. Perform sentiment analysis on collected speeches \n",
    "\n",
    "5. Next steps"
   ]
  },
  {
   "cell_type": "markdown",
   "id": "9ecb1e5f",
   "metadata": {},
   "source": [
    "## 1. Data Collection\n",
    "\n",
    "Before you begin there are a few pointers you should always keep in mind before choosing the data you wish to train your model on:\n",
    "- **Identifying Data Bias** - Bias is an inherent component of the human thought process. Therefore data sourced from human activities reflects that bias. Some ways in which this bias tends to occur in Machine Learning datasets are:\n",
    "    - *Bias in historical data*: Historical data are often skewed towards, or against, particular groups.\n",
    "        Data can also be severely imbalanced with limited information on protected groups.\n",
    "    - *Bias in data collection mechanisms*: Lack of representativeness introduces inherent biases in the data collection process.  \n",
    "    - *Bias towards observable outcomes*: In some scenarios, we have the information about True Outcomes only for a certain section of the population. In the absence of information on all outcomes, one cannot even measure fairness\n",
    "- **Preserving human anonymity for sensitive data**: [Trevisan and Reilly](https://eprints.whiterose.ac.uk/91157/1/Ethical%20dilemmas.pdf) identified a list of sensitive topics that need to be handled with extra care. We present the same below along with a few additions:\n",
    "    - personal daily routines (including location data);\n",
    "    - individual details about impairment and/or medical records;\n",
    "    - emotional accounts of pain and chronic illness;\n",
    "    - financial information about income and/or welfare payments;\n",
    "    - discrimination and abuse episodes;\n",
    "    - criticism/praise of individual providers of healthcare and support services;\n",
    "    - suicidal thoughts;\n",
    "    - criticism/praise of a power structure especially if it compromises their safety;\n",
    "    - personally-identifying information (even if anonymized in some way) including things like fingerprints or voice.\n",
    "\n",
    ">While it can be difficult taking consent from so many people especially on on-line platforms, the necessity of it depends upon the sensitivity of the topics your data includes and other indicators like whether the platform the data was obtained from allows users to operate under pseudonyms. If the website has a policy that forces the use of a real name, then the users need to be asked for consent.\n",
    "\n",
    "In this section, you will be collecting two different datasets: the IMDb movie reviews dataset, and a collection of 10 speeches curated for this tutorial including activists from different countries around the world, different times, and different topics. The former would be used to train the deep learning model while the latter will be used to perform sentiment analysis on."
   ]
  },
  {
   "cell_type": "markdown",
   "id": "a7d3f100",
   "metadata": {},
   "source": [
    "### Collecting the IMDb reviews dataset\n",
    "IMDb Reviews Dataset is a large movie review dataset collected and prepared by Andrew L. Maas from the popular movie rating service, IMDb. The IMDb Reviews dataset is used for binary sentiment classification, whether a review is positive or negative. It contains 25,000 movie reviews for training and 25,000 for testing. All these 50,000 reviews are labeled data that may be used for supervised deep learning. For ease of reproducibility, we'll be sourcing  the data from [Zenodo](https://zenodo.org/record/4117827#.YVQZ_EZBy3Ihttps://zenodo.org/record/4117827#.YVQZ_EZBy3I).\n",
    "   > The IMDb platform allows the usage of their public datasets for personal and non-commercial use. We did our best to ensure that these reviews do not contain any of the aforementioned sensitive topics pertaining to the reviewer."
   ]
  },
  {
   "cell_type": "markdown",
   "id": "6dd65c98",
   "metadata": {},
   "source": [
    "### Collecting and loading the speech transcripts\n",
    "We have chosen speeches by activists around the globe talking about issues like climate change, feminism, lgbtqa+ rights and racism. These were sourced from newspapers, the official website of the United Nations and the archives of established universities as cited in the table below. A CSV file was created containing the transcribed speeches, their speaker and the source the speeches were obtained from. \n",
    "We made sure to include different demographics in our data and included a range of different topics, most of which focus on social and/or ethical issues. \n",
    "\n",
    "| Speech                                           | Speaker                 | Source                                                     |\n",
    "|--------------------------------------------------|-------------------------|------------------------------------------------------------|\n",
    "| Barnard College Commencement                     | Leymah Gbowee           | [Barnard College](https://barnard.edu/news/transcript-speech-nobel-peace-prize-winner-leymah-gbowee)                         |\n",
    "| UN Speech on youth Education                     | Malala Yousafzai        | [The Guardian](https://www.theguardian.com/commentisfree/2013/jul/12/malala-yousafzai-united-nations-education-speech-text)                                              |\n",
    "| Remarks in the UNGA on racial discrimination     | Linda Thomas Greenfield | [United States mission to the United Nation](https://usun.usmission.gov/remarks-by-ambassador-linda-thomas-greenfield-at-a-un-general-assembly-commemorative-meeting-for-intl-day-for-the-elimination-of-racial-discrimination/)                 |\n",
    "| How Dare You                                     | Greta Thunberg          | [NBC](https://www.nbcnews.com/news/world/read-greta-thunberg-s-full-speech-united-nations-climate-action-n1057861)                                   |\n",
    "| The speech that silenced the world for 5 minutes | Severn Suzuki           | [Earth Charter](https://earthcharter.org/new-voices-after-26-years-of-the-girl-who-silenced-the-world-for-5-minutes/)                                             |\n",
    "| The Hope Speech                                  | Harvey Milk             | [Museum of Fine Arts, Boston](https://www.mfa.org/exhibitions/amalia-pica/transcript-harvey-milks-the-hope-speech)                 |\n",
    "| Speech at the time to Thrive Conference          | Ellen Page              | [Huffpost](https://www.huffpost.com/entry/time-to-thrive_b_4794251)                                                  |\n",
    "| I have a dream                                   | Martin Luther King      | [Marshall University](https://www.marshall.edu/onemarshallu/i-have-a-dream/)                    |"
   ]
  },
  {
   "cell_type": "markdown",
   "id": "1ed561e5",
   "metadata": {},
   "source": [
    "## 2. Preprocess the datasets\n",
    ">Preprocessing data is an extremely crucial step before building any Deep learning model, however in an attempt to keep the tutorial focused on building the model, we will not dive deep into the code for preprocessing. Given below is a brief overview of all the steps we undertake to clean our data and convert it to its numeric representation. \n",
    "\n",
    "1. **Text Denoising** : Before converting your text into vectors, it is important to clean it and remove all unhelpful parts a.k.a the noise from your data by converting all characters to lowercase, removing html tags, brackets and stop words (words that don't add much meaning to a sentence). Without this step the dataset is often a cluster of words that the computer doesn't understand. \n",
    "\n",
    "\n",
    "2. **Converting words to vectors** : A word embedding is a learned representation for text where words that have the same meaning have a similar representation. Individual words are represented as real-valued vectors in a predefined vector space. GloVe is an unsupervised algorithm developed by Stanford for generating word embeddings by generating global word-word co-occurence matrix from a corpus. You can download the zipped files containing the embeddings from https://nlp.stanford.edu/projects/glove/. Here you can choose any of the four options for different sizes or training datasets. We have chosen the least memory consuming embedding file. \n",
    " >The GloVe word embeddings include sets that were trained on billions of tokens, some up to 840 billion tokens. These algorithms exhibit stereotypical biases, such as gender bias which can be traced back to the original training data. For example certain occupations seem to be more biased towards a particular gender, reinforcing problematic stereotypes. The nearest solution to this problem are some de-biasing algorithms as the one presented in https://web.stanford.edu/class/archive/cs/cs224n/cs224n.1184/reports/6835575.pdf which one can use on embeddings of their choice to mitigate bias, if present."
   ]
  },
  {
   "cell_type": "markdown",
   "id": "113beddc",
   "metadata": {},
   "source": [
    "You'll start with importing the necessary packages to build our Deep Learning network"
   ]
  },
  {
   "cell_type": "code",
   "execution_count": 1,
   "id": "bda25c8b",
   "metadata": {
    "scrolled": true,
    "tags": []
   },
   "outputs": [],
   "source": [
    "# Importing the necessary packages \n",
    "import numpy as np \n",
    "import pandas as pd \n",
    "import matplotlib.pyplot as plt \n",
    "import pooch\n",
    "import string\n",
    "import re \n",
    "import zipfile \n",
    "import os"
   ]
  },
  {
   "cell_type": "code",
   "execution_count": 2,
   "id": "78ac2da1",
   "metadata": {
    "scrolled": true,
    "tags": [
     "hide-input"
    ]
   },
   "outputs": [],
   "source": [
    "class TextPreprocess:\n",
    "    \"\"\"Text Preprocessing for a Natural Language Processing model.\"\"\"\n",
    "    \n",
    "    def txt_to_df(self, file):\n",
    "        \"\"\"Function to convert a txt file to pandas dataframe.\n",
    "\n",
    "        Parameters\n",
    "        ----------\n",
    "        file : str\n",
    "            Path to the txt file.\n",
    "\n",
    "        Returns\n",
    "        -------\n",
    "        Pandas dataframe \n",
    "            txt file converted to a dataframe.\n",
    "\n",
    "        \"\"\"\n",
    "        with open(imdb_train, 'r') as in_file:\n",
    "            stripped = (line.strip() for line in in_file)\n",
    "            reviews = {}\n",
    "            for line in stripped:\n",
    "                lines = [splits for splits in line.split(\"\\t\") if splits != \"\"]\n",
    "                reviews[lines[1]] = float(lines[0])\n",
    "        df = pd.DataFrame(reviews.items(), columns=['review', 'sentiment'])\n",
    "        df = df.sample(frac=1).reset_index(drop=True)\n",
    "        return df \n",
    "        \n",
    "    def unzipper(self, zipped, to_extract):\n",
    "        \"\"\"Function to extract a file from a zipped folder.\n",
    "\n",
    "        Parameters\n",
    "        ----------\n",
    "        zipped : str\n",
    "            Path to the zipped folder.\n",
    "            \n",
    "        to_extract: str\n",
    "            Path to the file to be extracted from the zipped folder\n",
    "\n",
    "        Returns\n",
    "        -------\n",
    "        str \n",
    "            Path to the extracted file.\n",
    "\n",
    "        \"\"\"\n",
    "        fh = open(zipped, 'rb')\n",
    "        z = zipfile.ZipFile(fh)\n",
    "        outdir = os.path.split(zipped)[0]\n",
    "        z.extract(to_extract, outdir)\n",
    "        fh.close()\n",
    "        output_file = os.path.join(outdir, to_extract)\n",
    "        return output_file\n",
    "\n",
    "    def cleantext(self, df, text_column=None,\n",
    "                  remove_stopwords=True, remove_punc=True):\n",
    "        \"\"\"Function to clean text data.\n",
    "\n",
    "        Parameters\n",
    "        ----------\n",
    "        df : pandas dataframe\n",
    "            The dataframe housing the input data.\n",
    "        text_column : str\n",
    "            Column in dataframe whose text is to be cleaned.\n",
    "        remove_stopwords : bool\n",
    "            if True, remove stopwords from text\n",
    "        remove_punc : bool\n",
    "            if True, remove punctuation symbols from text\n",
    "\n",
    "        Returns\n",
    "        -------\n",
    "        Numpy array\n",
    "            Cleaned text.\n",
    "\n",
    "        \"\"\"\n",
    "        # converting all characters to lowercase\n",
    "        df[text_column] = df[text_column].str.lower()\n",
    "\n",
    "        # List of stopwords taken from https://gist.github.com/sebleier/554280\n",
    "        stopwords = [\"a\", \"about\", \"above\", \"after\", \"again\", \"against\",\n",
    "                     \"all\", \"am\", \"an\", \"and\", \"any\", \"are\",\n",
    "                     \"as\", \"at\", \"be\", \"because\",\n",
    "                     \"been\", \"before\", \"being\", \"below\",\n",
    "                     \"between\", \"both\", \"but\", \"by\", \"could\",\n",
    "                     \"did\", \"do\", \"does\", \"doing\", \"down\", \"during\",\n",
    "                     \"each\", \"few\", \"for\", \"from\", \"further\",\n",
    "                     \"had\", \"has\", \"have\", \"having\", \"he\",\n",
    "                     \"he'd\", \"he'll\", \"he's\", \"her\", \"here\",\n",
    "                     \"here's\", \"hers\", \"herself\", \"him\",\n",
    "                     \"himself\", \"his\", \"how\", \"how's\", \"i\",\n",
    "                     \"i'd\", \"i'll\", \"i'm\", \"i've\",\n",
    "                     \"if\", \"in\", \"into\",\n",
    "                     \"is\", \"it\", \"it's\", \"its\",\n",
    "                     \"itself\", \"let's\", \"me\", \"more\",\n",
    "                     \"most\", \"my\", \"myself\", \"nor\", \"of\",\n",
    "                     \"on\", \"once\", \"only\", \"or\",\n",
    "                     \"other\", \"ought\", \"our\", \"ours\",\n",
    "                     \"ourselves\", \"out\", \"over\", \"own\", \"same\",\n",
    "                     \"she\", \"she'd\", \"she'll\", \"she's\", \"should\",\n",
    "                     \"so\", \"some\", \"such\", \"than\", \"that\",\n",
    "                     \"that's\", \"the\", \"their\", \"theirs\", \"them\",\n",
    "                     \"themselves\", \"then\", \"there\", \"there's\",\n",
    "                     \"these\", \"they\", \"they'd\", \"they'll\",\n",
    "                     \"they're\", \"they've\", \"this\", \"those\",\n",
    "                     \"through\", \"to\", \"too\", \"under\", \"until\", \"up\",\n",
    "                     \"very\", \"was\", \"we\", \"we'd\", \"we'll\",\n",
    "                     \"we're\", \"we've\", \"were\", \"what\",\n",
    "                     \"what's\", \"when\", \"when's\",\n",
    "                     \"where\", \"where's\",\n",
    "                     \"which\", \"while\", \"who\", \"who's\",\n",
    "                     \"whom\", \"why\", \"why's\", \"with\",\n",
    "                     \"would\", \"you\", \"you'd\", \"you'll\",\n",
    "                     \"you're\", \"you've\",\n",
    "                     \"your\", \"yours\", \"yourself\", \"yourselves\"]\n",
    "\n",
    "        def remove_stopwords(data, column):\n",
    "            data[f'{column} without stopwords'] = data[column].apply(\n",
    "                lambda x: ' '.join([word for word in x.split() if word not in (stopwords)]))\n",
    "            return data\n",
    "\n",
    "        def remove_tags(string):\n",
    "            result = re.sub('<*>', '', string)\n",
    "            return result\n",
    "\n",
    "        # remove html tags and brackets from text\n",
    "        if remove_stopwords:\n",
    "            data_without_stopwords = remove_stopwords(df, text_column)\n",
    "            data_without_stopwords[f'clean_{text_column}'] = data_without_stopwords[f'{text_column} without stopwords'].apply(\n",
    "                lambda cw: remove_tags(cw))\n",
    "        if remove_punc:\n",
    "            data_without_stopwords[f'clean_{text_column}'] = data_without_stopwords[f'clean_{text_column}'].str.replace(\n",
    "                '[{}]'.format(string.punctuation), ' ', regex=True)\n",
    "\n",
    "        X = data_without_stopwords[f'clean_{text_column}'].to_numpy()\n",
    "\n",
    "        return X\n",
    "\n",
    "\n",
    "    def sent_tokeniser(self, x):\n",
    "        \"\"\"Function to split text into sentences.\n",
    "\n",
    "        Parameters\n",
    "        ----------\n",
    "        x : str\n",
    "            piece of text\n",
    "\n",
    "        Returns\n",
    "        -------\n",
    "        list \n",
    "            sentences with punctuation removed.\n",
    "\n",
    "        \"\"\"\n",
    "        sentences = re.split(r'(?<!\\w\\.\\w.)(?<![A-Z][a-z]\\.)(?<=\\.|\\?)\\s', x)\n",
    "        sentences.pop()\n",
    "        sentences_cleaned = [re.sub(r'[^\\w\\s]', '', x) for x in sentences]\n",
    "        return sentences_cleaned\n",
    "\n",
    "    def word_tokeniser(self, text):\n",
    "        \"\"\"Function to split text into tokens.\n",
    "\n",
    "        Parameters\n",
    "        ----------\n",
    "        x : str\n",
    "            piece of text\n",
    "\n",
    "        Returns\n",
    "        -------\n",
    "        list\n",
    "            words with punctuation removed.\n",
    "\n",
    "        \"\"\"\n",
    "        tokens = re.split(r\"([-\\s.,;!?])+\", text)\n",
    "        words = [x for x in tokens if (\n",
    "            x not in '- \\t\\n.,;!?\\\\' and '\\\\' not in x)]\n",
    "        return words\n",
    "\n",
    "    def loadGloveModel(self, emb_path):\n",
    "        \"\"\"Function to read from the word embedding file.\n",
    "\n",
    "        Returns\n",
    "        -------\n",
    "        Dict \n",
    "            mapping from word to corresponding word embedding.\n",
    "\n",
    "        \"\"\"\n",
    "        print(\"Loading Glove Model\")\n",
    "        File = emb_path\n",
    "        f = open(File, 'r')\n",
    "        gloveModel = {}\n",
    "        for line in f:\n",
    "            splitLines = line.split()\n",
    "            word = splitLines[0]\n",
    "            wordEmbedding = np.array([float(value) for value in splitLines[1:]])\n",
    "            gloveModel[word] = wordEmbedding\n",
    "        print(len(gloveModel), \" words loaded!\")\n",
    "        return gloveModel\n",
    "\n",
    "    def text_to_paras(self, text, para_len):\n",
    "        \"\"\"Function to split text into paragraphs.\n",
    "\n",
    "        Parameters\n",
    "        ----------\n",
    "        text : str\n",
    "            piece of text\n",
    "\n",
    "        para_len : int\n",
    "            length of each paragraph\n",
    "\n",
    "        Returns\n",
    "        -------\n",
    "        list \n",
    "            paragraphs of specified length.\n",
    "\n",
    "        \"\"\"\n",
    "        # split the speech into a list of words\n",
    "        words = text.split()\n",
    "        # obtain the total number of paragraphs\n",
    "        no_paras = int(np.ceil(len(words)/para_len))\n",
    "        # split the speech into a list of sentences\n",
    "        sentences = self.sent_tokeniser(text)\n",
    "        # aggregate the sentences into paragraphs\n",
    "        k, m = divmod(len(sentences), no_paras)\n",
    "        agg_sentences = [sentences[i*k+min(i, m):(i+1)*k+min(i+1, m)] for i in range(no_paras)]\n",
    "        paras = np.array([' '.join(sents) for sents in agg_sentences])\n",
    "\n",
    "        return paras"
   ]
  },
  {
   "cell_type": "markdown",
   "id": "d554aaa7-82a8-4796-b298-39e32e1739d5",
   "metadata": {},
   "source": [
    "[Pooch](https://github.com/fatiando/pooch) is a Python package made by scientists that manages downloading data files over HTTP and storing them in a local directory. We use this to set up a download manager which contains all of the information needed to fetch the data files in our registry and store them in the specified cache folder."
   ]
  },
  {
   "cell_type": "code",
   "execution_count": 3,
   "id": "b3d2356f",
   "metadata": {},
   "outputs": [],
   "source": [
    "data = pooch.create(\n",
    "    # folder where the data will be stored in the \n",
    "    # default cache folder of your Operating System \n",
    "    path=pooch.os_cache(\"numpy-nlp-tutorial\"),\n",
    "    # Base URL of the remote data store\n",
    "    base_url=\"\",\n",
    "    # The cache file registry. A dictionary with all files managed by this pooch.\n",
    "    registry={\n",
    "        \"imdb_train.txt\": \"6a38ea6ab5e1902cc03f6b9294ceea5e8ab985af991f35bcabd301a08ea5b3f0\",\n",
    "         \"imdb_test.txt\": \"7363ef08ad996bf4233b115008d6d7f9814b7cc0f4d13ab570b938701eadefeb\",\n",
    "        \"glove.6B.50d.zip\": \"617afb2fe6cbd085c235baf7a465b96f4112bd7f7ccb2b2cbd649fed9cbcf2fb\",\n",
    "    },\n",
    "    # Now specify custom URLs for some of the files in the registry.\n",
    "    urls={\n",
    "        \"imdb_train.txt\": \"doi:10.5281/zenodo.4117827/imdb_train.txt\",\n",
    "        \"imdb_test.txt\": \"doi:10.5281/zenodo.4117827/imdb_test.txt\",\n",
    "        \"glove.6B.50d.zip\": 'https://nlp.stanford.edu/data/glove.6B.zip'\n",
    "    }\n",
    ")"
   ]
  },
  {
   "cell_type": "markdown",
   "id": "9e45c0f0-5ae7-4c7b-8c81-83d7c6c4cf7b",
   "metadata": {},
   "source": [
    "Download the IMDb training and testing data files:"
   ]
  },
  {
   "cell_type": "code",
   "execution_count": 4,
   "id": "2f87f170-5e7a-4b7a-bee6-1465e5ced6c7",
   "metadata": {},
   "outputs": [],
   "source": [
    "imdb_train = data.fetch('imdb_train.txt')\n",
    "imdb_test = data.fetch('imdb_test.txt')"
   ]
  },
  {
   "cell_type": "markdown",
   "id": "2264e9cb",
   "metadata": {},
   "source": [
    "Instantiate the` TextPreprocess` class to perform various operations on our datasets:"
   ]
  },
  {
   "cell_type": "code",
   "execution_count": 5,
   "id": "32dcd081",
   "metadata": {
    "scrolled": true
   },
   "outputs": [],
   "source": [
    "textproc = TextPreprocess()"
   ]
  },
  {
   "cell_type": "markdown",
   "id": "ac95882c",
   "metadata": {},
   "source": [
    "Convert each IMDb file to a `pandas` dataframe for a more convenient preprocessing of the datasets:"
   ]
  },
  {
   "cell_type": "code",
   "execution_count": 6,
   "id": "cd42b337",
   "metadata": {
    "scrolled": true
   },
   "outputs": [],
   "source": [
    "train_df = textproc.txt_to_df(imdb_train)\n",
    "test_df = textproc.txt_to_df(imdb_test)"
   ]
  },
  {
   "cell_type": "markdown",
   "id": "9e8779bf",
   "metadata": {},
   "source": [
    "Now, you will clean the dataframes obtained above by removing occurrences of stopwords and punctuation marks. You will also retrieve the sentiment values from each dataframe to obtain the target variables:"
   ]
  },
  {
   "cell_type": "code",
   "execution_count": 20,
   "id": "75709ba7",
   "metadata": {
    "scrolled": true
   },
   "outputs": [],
   "source": [
    "X_train = textproc.cleantext(train_df,\n",
    "                       text_column='review',\n",
    "                       remove_stopwords=True,\n",
    "                       remove_punc=True)\n",
    "\n",
    "X_test = textproc.cleantext(test_df,\n",
    "                       text_column='review',\n",
    "                       remove_stopwords=True,\n",
    "                       remove_punc=True)\n",
    "\n",
    "y_train = train_df['sentiment'].to_numpy()\n",
    "y_test = test_df['sentiment'].to_numpy()"
   ]
  },
  {
   "cell_type": "markdown",
   "id": "9498ee8b",
   "metadata": {},
   "source": [
    "The same process is applicable on the collected speeches:\n",
    "> Since we will be performing paragraph wise sentiment analysis on each speech further ahead in the tutorial, we'll need the punctuation marks to split the text into paragraphs, hence we refrain from removing their punctuation marks at this stage"
   ]
  },
  {
   "cell_type": "code",
   "execution_count": 21,
   "id": "328fbc2f",
   "metadata": {
    "scrolled": true
   },
   "outputs": [],
   "source": [
    "speech_data_path = 'tutorial-nlp-from-scratch/speeches.csv'\n",
    "speech_df = pd.read_csv(speech_data_path)\n",
    "X_pred = textproc.cleantext(speech_df,\n",
    "                            text_column='speech',\n",
    "                            remove_stopwords=True,\n",
    "                            remove_punc=False)\n",
    "speakers = speech_df['speaker'].to_numpy()"
   ]
  },
  {
   "cell_type": "markdown",
   "id": "4a6db92b",
   "metadata": {},
   "source": [
    "You will now download the `GloVe` embeddings, unzip them and build a dictionary mapping each word and word embedding. This will act as a cache for when you need to replace each word with its respective word embedding."
   ]
  },
  {
   "cell_type": "code",
   "execution_count": 22,
   "id": "7d79c021",
   "metadata": {
    "scrolled": true
   },
   "outputs": [
    {
     "name": "stdout",
     "output_type": "stream",
     "text": [
      "Loading Glove Model\n",
      "400000  words loaded!\n"
     ]
    }
   ],
   "source": [
    "glove = data.fetch('glove.6B.50d.zip')\n",
    "emb_path = textproc.unzipper(glove, 'glove.6B.300d.txt')\n",
    "emb_matrix = textproc.loadGloveModel(emb_path)"
   ]
  },
  {
   "cell_type": "markdown",
   "id": "cd06f551",
   "metadata": {},
   "source": [
    "### 3. Build the Deep Learning Model¶\n",
    " It is time to start implementing our LSTM! You will have to first familiarize yourself with some high-level concepts of the basic building blocks of a deep learning model. You can refer to the [Deep learning on MNIST from scratch tutorial](https://numpy.org/numpy-tutorials/content/tutorial-deep-learning-on-mnist.html) for the same. \n",
    "\n",
    "You will then learn how a Recurrent Neural Network differs from a plain Neural Network and what makes it so suitable for processing sequential data. Afterwards, you will construct the building blocks of a simple deep learning model in Python and NumPy and train it to learn to classify the sentiment of a piece of text as positive or negative with a certain level of accuracy\n",
    "\n",
    "### Introduction to a Long Short Term Memory Network\n",
    "\n",
    "In a [Multilayer perceptron](https://en.wikipedia.org/wiki/Multilayer_perceptron) (MLP), the information only moves in one direction — from the input layer, through the hidden layers, to the output layer. The information moves straight through the network and never takes the previous nodes into account at a later stage. Because it only considers the current input, the features learned are not shared across different positions of the sequence. Moreover, it cannot process sequences with varying lengths.\n",
    "\n",
    "Unlike an MLP, the RNN was designed to work with sequence prediction problems.RNNs introduce state variables to store past information, together with the current inputs, to determine the current outputs. Since an RNN shares the learned features with all the data points in a sequence regardless of its length, it is capable of processing sequences with varying lengths.  \n",
    "\n",
    "The problem with an RNN however, is that it cannot retain long-term memory because the influence of a given input on the hidden layer, and therefore on the network output, either decays or blows up exponentially as it cycles around the network’s recurrent connections. This shortcoming is referred to as the vanishing gradient problem. Long Short-Term Memory (LSTM) is an RNN architecture specifically designed to address the [vanishing gradient problem](https://en.wikipedia.org/wiki/Vanishing_gradient_problem)."
   ]
  },
  {
   "cell_type": "markdown",
   "id": "aff31ad0-a2ff-4ea6-825d-c145e5df25b7",
   "metadata": {},
   "source": [
    "### Overview of the Model Architecture \n",
    "\n",
    "<img src=\"_static/lstm.gif\" width=\"900\" align=\"center\">"
   ]
  },
  {
   "cell_type": "markdown",
   "id": "f9d06d20",
   "metadata": {},
   "source": [
    "In the above gif, The rectangles labeled $A$ are called `Cells` and they are the **Memory Blocks** of our LSTM network. They are responsible for choosing what to remember in a sequence and pass on that information to the next cell via two states called the `hidden state` $H_{t}$ and the `cell state` $C_{t}$ where $t$ indicates the time-step. We recommend you to go through [ Long Short-Term Memory (LSTM)](http://d2l.ai/chapter_recurrent-modern/lstm.html) to understand the mechanisms happening inside each cell."
   ]
  },
  {
   "cell_type": "markdown",
   "id": "fafa7ce6",
   "metadata": {},
   "source": [
    "### But how do you obtain sentiment from the LSTM's output?\n",
    "The hidden state you obtain from the last word in a sequence is considered to be a representation of all the information contained in a sequence. To classify this information into various classes (2 in our case, positive and negative) we can use a Fully Connected layer which firstly maps this information to a predefined output size (1 in our case) and an activation layer like sigmoid on top of it finally converts the output to a value between 0 and 1. We'll consider values greater than 0.5 to be indicative of a positive sentiment."
   ]
  },
  {
   "cell_type": "markdown",
   "id": "87139b41",
   "metadata": {},
   "source": [
    "Define a function to randomly initialize the parameters which will be learned while our model trains"
   ]
  },
  {
   "cell_type": "code",
   "execution_count": 23,
   "id": "15288fd4",
   "metadata": {
    "scrolled": true
   },
   "outputs": [],
   "source": [
    "def initialise_params(hidden_dim, input_dim):\n",
    "    # forget gate\n",
    "    Wf = np.random.randn(hidden_dim, hidden_dim + input_dim)\n",
    "    bf = np.random.randn(hidden_dim, 1)\n",
    "    # input gate\n",
    "    Wi = np.random.randn(hidden_dim, hidden_dim + input_dim)\n",
    "    bi = np.random.randn(hidden_dim, 1)\n",
    "    # candidate memory gate\n",
    "    Wcm = np.random.randn(hidden_dim, hidden_dim + input_dim)\n",
    "    bcm = np.random.randn(hidden_dim, 1)\n",
    "    # output gate\n",
    "    Wo = np.random.randn(hidden_dim, hidden_dim + input_dim)\n",
    "    bo = np.random.randn(hidden_dim, 1)\n",
    "\n",
    "    # fully connected classification layer\n",
    "    W2 = np.random.randn(1, hidden_dim)\n",
    "    b2 = np.zeros((1, 1))\n",
    "\n",
    "    parameters = {\n",
    "        \"Wf\": Wf,\n",
    "        \"bf\": bf,\n",
    "        \"Wi\": Wi,\n",
    "        \"bi\": bi,\n",
    "        \"Wcm\": Wcm,\n",
    "        \"bcm\": bcm,\n",
    "        \"Wo\": Wo,\n",
    "        \"bo\": bo,\n",
    "        \"W2\": W2,\n",
    "        \"b2\": b2\n",
    "    }\n",
    "    return parameters"
   ]
  },
  {
   "cell_type": "markdown",
   "id": "16694056",
   "metadata": {},
   "source": [
    "### Forward Propagation\n",
    "\n",
    "Now that you have your initialized parameters, you can pass the input data in a forward direction through the network. Each layer accepts the input data, processes it and passes it to the successive layer. This process is called `Forward Propagation`. You will undertake the following mechanism to implement it:\n",
    "- Loading the word embeddings of the input data\n",
    "- Passing the embeddings to an LSTM to obtain the output of the final cell\n",
    "- Passing the final output from the LSTM through a fully connected layer to obtain the probability with which the sequence is positive \n",
    "- Storing all the intermediate outputs in a cache to utilize during backpropagation"
   ]
  },
  {
   "cell_type": "markdown",
   "id": "4eb09817",
   "metadata": {},
   "source": [
    "Define a function to calculate the sigmoid of a matrix"
   ]
  },
  {
   "cell_type": "code",
   "execution_count": 24,
   "id": "e8a58092",
   "metadata": {
    "scrolled": true
   },
   "outputs": [],
   "source": [
    "def sigmoid(x):\n",
    "    n = np.exp(np.fmin(x, 0))\n",
    "    d = (1 + np.exp(-np.abs(x)))\n",
    "    return n / d"
   ]
  },
  {
   "cell_type": "markdown",
   "id": "67672997",
   "metadata": {},
   "source": [
    "Define a function to carry out forward propagation"
   ]
  },
  {
   "cell_type": "code",
   "execution_count": 25,
   "id": "00dbd189",
   "metadata": {
    "scrolled": true
   },
   "outputs": [],
   "source": [
    "def forward_prop(X_vec, parameters, input_dim):\n",
    "\n",
    "    hidden_dim = parameters['Wf'].shape[0]\n",
    "    time_steps = len(X_vec)\n",
    "\n",
    "    # Initialise hidden and cell state before passing to first time step\n",
    "    prev_hidden_state = np.zeros((hidden_dim, 1))\n",
    "    prev_cell_state = np.zeros(prev_hidden_state.shape)\n",
    "\n",
    "    # Store all the intermediate and final variables here\n",
    "    caches = {'lstm_values': [], 'fc_values': []}\n",
    "\n",
    "    # Hidden state from the last cell in the LSTM layer is calculated.\n",
    "    for t in range(time_steps):\n",
    "\n",
    "        x = X_vec[t]\n",
    "        # Retrieve embedding for one word for each time step\n",
    "        X_t = emb_matrix.get(x, np.random.rand(input_dim, 1))\n",
    "        X_t = X_t.reshape((input_dim, 1))\n",
    "\n",
    "        # Concatenate prev_hidden_state and xt\n",
    "        concat = np.vstack((prev_hidden_state, X_t))\n",
    "\n",
    "        # Calculate output of the forget gate\n",
    "        ft = sigmoid(np.dot(parameters['Wf'], concat)\n",
    "                     + parameters['bf'])\n",
    "\n",
    "        # Calculate output of the input gate\n",
    "        it = sigmoid(np.dot(parameters['Wi'], concat)\n",
    "                     + parameters['bi'])\n",
    "        cmt = np.tanh(np.dot(parameters['Wcm'], concat)\n",
    "                      + parameters['bcm'])\n",
    "        io = it * cmt\n",
    "\n",
    "        # Update the cell state\n",
    "        next_cell_state = (ft * prev_cell_state) + io\n",
    "\n",
    "        # Calculate output of the output gate\n",
    "        ot = sigmoid(np.dot(parameters['Wo'], concat)\n",
    "                     + parameters['bo'])\n",
    "\n",
    "        # Update the hidden input\n",
    "        next_hidden_state = ot * np.tanh(next_cell_state)\n",
    "\n",
    "        # store values needed for backward propagation in cache\n",
    "        cache = (next_hidden_state, next_cell_state,\n",
    "                 prev_hidden_state, prev_cell_state,\n",
    "                 ft, it, cmt, ot, X_t)\n",
    "        caches['lstm_values'].append(cache)\n",
    "\n",
    "        # Update hidden state and cell state for next time step\n",
    "        prev_hidden_state = next_hidden_state\n",
    "        prev_cell_state = next_cell_state\n",
    "\n",
    "    # Pass through a fully connected layer to perform binary classification\n",
    "    z2 = (np.dot(parameters['W2'], next_hidden_state)\n",
    "          + parameters['b2'])\n",
    "    a2 = sigmoid(z2)\n",
    "    cache = (a2, parameters['W2'])\n",
    "    caches['fc_values'].append(cache)\n",
    "\n",
    "    return caches"
   ]
  },
  {
   "cell_type": "markdown",
   "id": "cc168c0c",
   "metadata": {},
   "source": [
    "### Backpropagation\n",
    "\n",
    "After each forward pass through the network, you will implement the `backpropagation through time` algorithm to accumulate gradients of each parameter over the time steps. Backpropagation through a LSTM is not as straightforward as through other common Deep Learning architectures, due to the special way its underlying layers interact. Nonetheless, the approach is largely the same; identifying dependencies and applying the chain rule."
   ]
  },
  {
   "cell_type": "markdown",
   "id": "fa9d7000",
   "metadata": {},
   "source": [
    "Lets start with defining a function to initialise gradients of each parameter as arrays made up of zeros with same dimensions as the corresponding parameter"
   ]
  },
  {
   "cell_type": "code",
   "execution_count": 26,
   "id": "04e541af",
   "metadata": {
    "scrolled": true
   },
   "outputs": [],
   "source": [
    "# Initialise the gradients\n",
    "def initialise_grads(parameters):\n",
    "    grads = {}\n",
    "    for param in parameters.keys():\n",
    "        grads[f'd{param}'] = np.zeros((parameters[param].shape))\n",
    "    return grads"
   ]
  },
  {
   "cell_type": "markdown",
   "id": "f2794880",
   "metadata": {},
   "source": [
    "Now you'll define a function to calculate the gradients of each intermediate value in the neural network with respect to the loss and accumulate those gradients over the entire sequence. To understand how the gradients are calculated at each step in greater depth, you are suggested to follow this helpful [blog](https://christinakouridi.blog/2019/06/19/backpropagation-lstm/) by Christina Kouridi"
   ]
  },
  {
   "cell_type": "code",
   "execution_count": 27,
   "id": "fba4c540",
   "metadata": {
    "scrolled": true
   },
   "outputs": [],
   "source": [
    "def backprop(y, caches, hidden_dim, input_dim, time_steps, parameters):\n",
    "    # Retrieve output and corresponding weights of fully connected layer\n",
    "    A2, W2 = caches['fc_values'][0]\n",
    "    # Retrieve hidden state calculated in the last time step\n",
    "    h_last = caches['lstm_values'][-1][0]\n",
    "\n",
    "    pred_value = np.array(A2)\n",
    "    target_value = np.array(y)\n",
    "\n",
    "    # Initialise gradients\n",
    "    gradients = initialise_grads(parameters)\n",
    "\n",
    "    # Calculate gradients of the fully connected layer\n",
    "    # dZ2 = dL/da2 * da2/dZ2\n",
    "    dZ2 = pred_value - target_value\n",
    "    # dW2 = dL/da2 * da2/dZ2 * dZ2/dW2\n",
    "    gradients['dW2'] = np.dot(dZ2, h_last.T)\n",
    "    # db2 = dL/da2 * da2/dZ2 * dZ2/db2\n",
    "    gradients['db2'] = np.sum(dZ2)\n",
    "\n",
    "    # Gradient of Loss w.r.t the last hidden output of the LSTM\n",
    "    # dh_last = dZ2 * W2\n",
    "    dh_last = np.dot(W2.T, dZ2)\n",
    "\n",
    "    # Initialise gradients w.r.t previous hidden state and cell state\n",
    "    dh_prev = dh_last\n",
    "    dc_prev = np.zeros((dh_prev.shape))\n",
    "\n",
    "    # loop back over the whole sequence\n",
    "    for t in reversed(range(time_steps)):\n",
    "        cache = caches['lstm_values'][t]\n",
    "\n",
    "        # Retrieve parameters from \"parameters\"\n",
    "        Wf = parameters[\"Wf\"]\n",
    "        Wi = parameters[\"Wi\"]\n",
    "        Wcm = parameters[\"Wcm\"]\n",
    "        Wo = parameters[\"Wo\"]\n",
    "\n",
    "        # Retrieve information from \"cache\"\n",
    "        (next_hidden_state, next_cell_state,\n",
    "         prev_hidden_state, prev_cell_state,\n",
    "         ft, it, cmt, ot, X_t) = cache\n",
    "        \n",
    "        # Input to gates of LSTM is [prev_hidden_state, X_t]\n",
    "        concat = np.concatenate((prev_hidden_state, X_t), axis=0)\n",
    "\n",
    "        # Compute gates related derivatives\n",
    "        # Calculate derivative w.r.t the parameters of forget gate\n",
    "        # dft = dL/da2 * da2/dZ2 * dZ2/dh_prev * dh_prev/dc_prev * dc_prev/dft\n",
    "        dft = ((dc_prev * prev_cell_state + ot\n",
    "               * (1 - np.square(np.tanh(next_cell_state)))\n",
    "               * prev_cell_state * dh_prev) * ft * (1 - ft))\n",
    "        # dWf = dft * dft/dWf\n",
    "        gradients['dWf'] += np.dot(dft, concat.T)\n",
    "        # dbf = dft * dft/dbf\n",
    "        gradients['dbf'] += np.sum(dft, axis=1, keepdims=True)\n",
    "        # dh_f = dft * dft/dh_prev\n",
    "        dh_f = np.dot(Wf[:, :hidden_dim].T, dft)\n",
    "\n",
    "        # Calculate derivative w.r.t the parameters of input gate\n",
    "        # dit = dL/da2 * da2/dZ2 * dZ2/dh_prev * dh_prev/dc_prev * dc_prev/dit\n",
    "        dit = ((dc_prev * cmt + ot\n",
    "               * (1 - np.square(np.tanh(next_cell_state)))\n",
    "               * cmt * dh_prev) * it * (1 - it))\n",
    "        # dcmt = dL/da2 * da2/dZ2 * dZ2/dh_prev * dh_prev/dc_prev * dc_prev/dcmt\n",
    "        dcmt = ((dc_prev * it + ot\n",
    "                * (1 - np.square(np.tanh(next_cell_state)))\n",
    "                * it * dh_prev) * (1 - np.square(cmt)))\n",
    "        # dWi = dit * dit/dWi\n",
    "        gradients['dWi'] += np.dot(dit, concat.T)\n",
    "        # dWcm = dcmt * dcmt/dWcm\n",
    "        gradients['dWcm'] += np.dot(dcmt, concat.T)\n",
    "        # dbi = dit * dit/dbi\n",
    "        gradients['dbi'] += np.sum(dit, axis=1, keepdims=True)\n",
    "        # dWcm = dcmt * dcmt/dbcm\n",
    "        gradients['dbcm'] += np.sum(dcmt, axis=1, keepdims=True)\n",
    "        # dhi = dit * dit/dh_prev\n",
    "        dh_i = np.dot(Wi[:, :hidden_dim].T, dit)\n",
    "        # dhcm = dcmt * dcmt/dh_prev\n",
    "        dh_cm = np.dot(Wcm[:, :hidden_dim].T, dcmt)\n",
    "\n",
    "        # Calculate derivative w.r.t the parameters of output gate\n",
    "        # dot = dL/da2 * da2/dZ2 * dZ2/dh_prev * dh_prev/dot\n",
    "        dot = (dh_prev * np.tanh(next_cell_state)\n",
    "               * ot * (1 - ot))\n",
    "        # dWo = dot * dot/dWo\n",
    "        gradients['dWo'] += np.dot(dot, concat.T)\n",
    "        # dbo = dot * dot/dbo\n",
    "        gradients['dbo'] += np.sum(dot, axis=1, keepdims=True)\n",
    "        # dho = dot * dot/dho\n",
    "        dh_o = np.dot(Wo[:, :hidden_dim].T, dot)\n",
    "\n",
    "        # Compute derivatives w.r.t prev. hidden state and the prev. cell state\n",
    "        dh_prev = dh_f + dh_i + dh_cm + dh_o\n",
    "        dc_prev = (dc_prev * ft + ot\n",
    "                   * (1 - np.square(np.tanh(next_cell_state)))\n",
    "                   * ft * dh_prev)\n",
    "\n",
    "    return gradients"
   ]
  },
  {
   "cell_type": "markdown",
   "id": "d97ac6fd",
   "metadata": {},
   "source": [
    "### Updating the Parameters \n",
    "\n",
    "We update the parameters through an optimization algorithm called [Adam](https://optimization.cbe.cornell.edu/index.php?title=Adam) which is an extension to stochastic gradient descent that has recently seen broader adoption for deep learning applications in computer vision and natural language processing. Specifically, the algorithm calculates an exponential moving average of the gradient and the squared gradient, and the parameters `beta1` and `beta2` control the decay rates of these moving averages. Adam has shown increased convergence and robustness over other gradient descent algorithms and is often recommended as the default optimizer for training."
   ]
  },
  {
   "cell_type": "markdown",
   "id": "37d03482",
   "metadata": {},
   "source": [
    "Define a function to initialise the moving averages for each parameter"
   ]
  },
  {
   "cell_type": "code",
   "execution_count": 28,
   "id": "84a660bf",
   "metadata": {
    "scrolled": true
   },
   "outputs": [],
   "source": [
    "# initialise the moving averages\n",
    "def initialise_mav(hidden_dim, input_dim, params):\n",
    "    v = {}\n",
    "    s = {}\n",
    "    # Initialize dictionaries v, s\n",
    "    for key in params:\n",
    "        v['d' + key] = np.zeros(params[key].shape)\n",
    "        s['d' + key] = np.zeros(params[key].shape)\n",
    "    # Return initialised moving averages\n",
    "    return v, s"
   ]
  },
  {
   "cell_type": "markdown",
   "id": "f68053e5",
   "metadata": {},
   "source": [
    "Define a function to update the parameters"
   ]
  },
  {
   "cell_type": "code",
   "execution_count": 29,
   "id": "88924cfd",
   "metadata": {
    "scrolled": true
   },
   "outputs": [],
   "source": [
    "# Update the parameters using Adam optimization\n",
    "def update_parameters(parameters, gradients, v, s,\n",
    "                      learning_rate=0.01, beta1=0.9, beta2=0.999):\n",
    "    for key in parameters:\n",
    "        # Moving average of the gradients\n",
    "        v['d' + key] = (beta1 * v['d' + key]\n",
    "                        + (1 - beta1) * gradients['d' + key])\n",
    "\n",
    "        # Moving average of the squared gradients\n",
    "        s['d' + key] = (beta2 * s['d' + key]\n",
    "                        + (1 - beta2) * (gradients['d' + key] ** 2))\n",
    "\n",
    "        # Update parameters\n",
    "        parameters[key] = (parameters[key] - learning_rate\n",
    "                           * v['d' + key] / np.sqrt(s['d' + key] + 1e-8))\n",
    "    # Return updated parameters and moving averages\n",
    "    return parameters, v, s"
   ]
  },
  {
   "cell_type": "markdown",
   "id": "6f6acee8",
   "metadata": {},
   "source": [
    "### Training the Network"
   ]
  },
  {
   "cell_type": "markdown",
   "id": "4239f9f3",
   "metadata": {},
   "source": [
    "You will start by initializing all the parameters and hyperparameters being used in your network"
   ]
  },
  {
   "cell_type": "code",
   "execution_count": 30,
   "id": "60ac50b1",
   "metadata": {
    "scrolled": true
   },
   "outputs": [],
   "source": [
    "hidden_dim = 64\n",
    "input_dim = emb_matrix['memory'].shape[0]\n",
    "learning_rate = 0.001\n",
    "epochs = 10\n",
    "parameters = initialise_params(hidden_dim,\n",
    "                               input_dim)\n",
    "v, s = initialise_mav(hidden_dim,\n",
    "                      input_dim,\n",
    "                      parameters)"
   ]
  },
  {
   "cell_type": "markdown",
   "id": "332df34f",
   "metadata": {},
   "source": [
    "To optimize your deep learning network, you need to calculate a loss based on how well the model is doing on the training data. Loss value implies how poorly or well a model behaves after each iteration of optimization. <br>\n",
    "Define a function to calculate the loss using [negative log likelihood](http://d2l.ai/chapter_linear-networks/softmax-regression.html?highlight=negative%20log%20likelihood#log-likelihood)"
   ]
  },
  {
   "cell_type": "code",
   "execution_count": 31,
   "id": "33ba2df0",
   "metadata": {
    "scrolled": true
   },
   "outputs": [],
   "source": [
    "def loss_f(A, Y):\n",
    "    # define value of epsilon to prevent zero division error inside a log\n",
    "    epsilon = 1e-5\n",
    "    # Implement formula for negative log likelihood\n",
    "    loss = (- Y * np.log(A + epsilon)\n",
    "            - (1 - Y) * np.log(1 - A + epsilon))\n",
    "    # Return loss\n",
    "    return np.squeeze(loss)"
   ]
  },
  {
   "cell_type": "markdown",
   "id": "17973218",
   "metadata": {},
   "source": [
    "Set up the neural network's learning experiment with a training loop and start the training process. You will also evaluate the model's performance on the training dataset to see how well the model is *learning* and the testing dataset to see how well it is *generalizing*.\n",
    ">Skip running this cell if you already have the trained parameters stored in a `npy` file"
   ]
  },
  {
   "cell_type": "code",
   "execution_count": 32,
   "id": "af1f889c",
   "metadata": {
    "scrolled": true
   },
   "outputs": [
    {
     "name": "stdout",
     "output_type": "stream",
     "text": [
      "Epoch 1 finished. \t  Training Loss : 1.2717681585041294 \t  Testing Loss : 0.9516362650912227\n",
      "Epoch 2 finished. \t  Training Loss : 0.8538222169518602 \t  Testing Loss : 0.8405079640078849\n",
      "Epoch 3 finished. \t  Training Loss : 0.8295878700113952 \t  Testing Loss : 0.8636703217777288\n",
      "Epoch 4 finished. \t  Training Loss : 0.7875044744054012 \t  Testing Loss : 0.7376407220089999\n",
      "Epoch 5 finished. \t  Training Loss : 0.7482367121628813 \t  Testing Loss : 0.9120265245001339\n",
      "Epoch 6 finished. \t  Training Loss : 0.7501761136098994 \t  Testing Loss : 0.7234477218951372\n",
      "Epoch 7 finished. \t  Training Loss : 0.7336945597678716 \t  Testing Loss : 0.7776978429955884\n",
      "Epoch 8 finished. \t  Training Loss : 0.7409031507156666 \t  Testing Loss : 0.7548566010864016\n",
      "Epoch 9 finished. \t  Training Loss : 0.7696696264344289 \t  Testing Loss : 0.8519924115102059\n",
      "Epoch 10 finished. \t  Training Loss : 0.7711833115503014 \t  Testing Loss : 0.7840305197438323\n"
     ]
    }
   ],
   "source": [
    "# To store training losses\n",
    "training_losses = []\n",
    "# To store testing losses\n",
    "testing_losses = []\n",
    "\n",
    "# This is a training loop.\n",
    "# Run the learning experiment for a defined number of epochs (iterations).\n",
    "for epoch in range(epochs):\n",
    "    #################\n",
    "    # Training step #\n",
    "    #################\n",
    "    train_j = []\n",
    "    for sample, target in zip(X_train, y_train):\n",
    "        # split text sample into words/tokens\n",
    "        b = textproc.word_tokeniser(sample)\n",
    "\n",
    "        # Forward propagation/forward pass:\n",
    "        caches = forward_prop(b,\n",
    "                              parameters,\n",
    "                              input_dim)\n",
    "\n",
    "        # Backward propagation/backward pass:\n",
    "        gradients = backprop(target,\n",
    "                             caches,\n",
    "                             hidden_dim,\n",
    "                             input_dim,\n",
    "                             len(b),\n",
    "                             parameters)\n",
    "\n",
    "        # Update the weights and biases for the LSTM and fully connected layer\n",
    "        parameters, v, s = update_parameters(parameters,\n",
    "                                             gradients,\n",
    "                                             v,\n",
    "                                             s,\n",
    "                                             learning_rate=learning_rate,\n",
    "                                             beta1=0.999,\n",
    "                                             beta2=0.9)\n",
    "\n",
    "        # Measure the training error (loss function) between the actual\n",
    "        # sentiment (the truth) and the prediction by the model.\n",
    "        y_pred = caches['fc_values'][0][0][0][0]\n",
    "        loss = loss_f(y_pred, target)\n",
    "        # Store training set losses\n",
    "        train_j.append(loss)\n",
    "\n",
    "    ###################\n",
    "    # Evaluation step #\n",
    "    ###################\n",
    "    test_j = []\n",
    "    for sample, target in zip(X_test, y_test):\n",
    "        # split text sample into words/tokens\n",
    "        b = textproc.word_tokeniser(sample)\n",
    "\n",
    "        # Forward propagation/forward pass:\n",
    "        caches = forward_prop(b,\n",
    "                              parameters,\n",
    "                              input_dim)\n",
    "\n",
    "        # Measure the testing error (loss function) between the actual\n",
    "        # sentiment (the truth) and the prediction by the model.\n",
    "        y_pred = caches['fc_values'][0][0][0][0]\n",
    "        loss = loss_f(y_pred, target)\n",
    "\n",
    "        # Store testing set losses\n",
    "        test_j.append(loss)\n",
    "\n",
    "    # Calculate average of training and testing losses for one epoch\n",
    "    mean_train_cost = np.mean(train_j)\n",
    "    mean_test_cost = np.mean(test_j)\n",
    "    training_losses.append(mean_train_cost)\n",
    "    testing_losses.append(mean_test_cost)\n",
    "    print('Epoch {} finished. \\t  Training Loss : {} \\t  Testing Loss : {}'.\n",
    "          format(epoch + 1, mean_train_cost, mean_test_cost))\n",
    "\n",
    "# save the trained parameters to a npy file\n",
    "np.save('tutorial-nlp-from-scratch/parameters.npy', parameters)"
   ]
  },
  {
   "cell_type": "markdown",
   "id": "e8f024bc",
   "metadata": {},
   "source": [
    "It is a good practice to plot the training and testing losses as the learning curves are often helpful in diagnosing the behavior of a Machine Learning model."
   ]
  },
  {
   "cell_type": "code",
   "execution_count": 35,
   "id": "04ecb544",
   "metadata": {
    "scrolled": true
   },
   "outputs": [
    {
     "data": {
      "image/png": "[encoded data removed]",
      "text/plain": [
       "<Figure size 432x288 with 1 Axes>"
      ]
     },
     "metadata": {
      "needs_background": "light"
     },
     "output_type": "display_data"
    }
   ],
   "source": [
    "fig = plt.figure()\n",
    "ax = fig.add_subplot(111)\n",
    "\n",
    "# plot the training loss\n",
    "ax.plot(range(0, len(training_losses)), training_losses, label='training loss')\n",
    "# plot the testing loss\n",
    "ax.plot(range(0, len(testing_losses)), testing_losses, label='testing loss')\n",
    "\n",
    "# set the x and y labels\n",
    "ax.set_xlabel(\"epochs\")\n",
    "ax.set_ylabel(\"loss\")\n",
    "\n",
    "plt.legend(title='labels', bbox_to_anchor=(1.0, 1), loc='upper left')\n",
    "plt.show()"
   ]
  },
  {
   "cell_type": "markdown",
   "id": "76f12cf7",
   "metadata": {},
   "source": [
    "### Sentiment Analysis on the Speech Data"
   ]
  },
  {
   "cell_type": "markdown",
   "id": "a8513956",
   "metadata": {},
   "source": [
    "Once your model is trained, you can use the updated parameters to start making our predictions. You can break each speech into paragraphs of uniform size before passing them to the Deep Learning model and predicting the sentiment of each paragraph"
   ]
  },
  {
   "cell_type": "code",
   "execution_count": 37,
   "id": "ae425bdf",
   "metadata": {
    "scrolled": true
   },
   "outputs": [],
   "source": [
    "# To store predicted sentiments\n",
    "predictions = {}\n",
    "\n",
    "# define the length of a paragraph\n",
    "para_len = 100\n",
    "\n",
    "# Retrieve trained values of the parameters\n",
    "if os.path.isfile('tutorial-nlp-from-scratch/parameters.npy'):\n",
    "    parameters = np.load('tutorial-nlp-from-scratch/parameters.npy', allow_pickle=True).item()\n",
    "\n",
    "# This is the prediction loop.\n",
    "for index, text in enumerate(X_pred):\n",
    "    # split each speech into paragraphs\n",
    "    paras = textproc.text_to_paras(text, para_len)\n",
    "    # To store the network outputs\n",
    "    preds = []\n",
    "\n",
    "    for para in paras:\n",
    "        # split text sample into words/tokens\n",
    "        para_tokens = textproc.word_tokeniser(para)\n",
    "        # Forward Propagation\n",
    "        caches = forward_prop(para_tokens,\n",
    "                              parameters,\n",
    "                              input_dim)\n",
    "\n",
    "        # Retrieve the output of the fully connected layer\n",
    "        sent_prob = caches['fc_values'][0][0][0][0]\n",
    "        preds.append(sent_prob)\n",
    "\n",
    "    threshold = 0.5\n",
    "    preds = np.array(preds)\n",
    "    # Mark all predictions > threshold as positive and < threshold as negative\n",
    "    pos_indices = np.where(preds > threshold)  # indices where output > 0.5\n",
    "    neg_indices = np.where(preds < threshold)  # indices where output < 0.5\n",
    "    # Store predictions and corresponding piece of text\n",
    "    predictions[speakers[index]] = {'pos_paras': paras[pos_indices[0]],\n",
    "                                    'neg_paras': paras[neg_indices[0]]}"
   ]
  },
  {
   "cell_type": "markdown",
   "id": "b0ce5d45",
   "metadata": {},
   "source": [
    "Visualizing the sentiment predictions:"
   ]
  },
  {
   "cell_type": "code",
   "execution_count": 38,
   "id": "89db2a17",
   "metadata": {
    "scrolled": true
   },
   "outputs": [
    {
     "data": {
      "image/png": "[encoded data removed]",
      "text/plain": [
       "<Figure size 432x288 with 1 Axes>"
      ]
     },
     "metadata": {
      "needs_background": "light"
     },
     "output_type": "display_data"
    }
   ],
   "source": [
    "x_axis = []\n",
    "data = {'positive sentiment': [], 'negative sentiment': []}\n",
    "for speaker in predictions:\n",
    "    # The speakers will be used to label the x-axis in our plot\n",
    "    x_axis.append(speaker)\n",
    "    # number of paras with positive sentiment\n",
    "    no_pos_paras = len(predictions[speaker]['pos_paras'])\n",
    "    # number of paras with negative sentiment\n",
    "    no_neg_paras = len(predictions[speaker]['neg_paras'])\n",
    "    # Obtain percentage of paragraphs with positive predicted sentiment\n",
    "    pos_perc = no_pos_paras / (no_pos_paras + no_neg_paras)\n",
    "    # Store positive and negative percentages\n",
    "    data['positive sentiment'].append(pos_perc*100)\n",
    "    data['negative sentiment'].append(100*(1-pos_perc))\n",
    "\n",
    "index = pd.Index(x_axis, name='speaker')\n",
    "df = pd.DataFrame(data, index=index)\n",
    "ax = df.plot(kind='bar', stacked=True)\n",
    "ax.set_ylabel('percentage')\n",
    "ax.legend(title='labels', bbox_to_anchor=(1, 1), loc='upper left')\n",
    "plt.show()"
   ]
  },
  {
   "cell_type": "markdown",
   "id": "a8a3fad5",
   "metadata": {},
   "source": [
    "In the plot above, you're shown what percentages of each speech are expected to carry a positive and negative  sentiment. Since this implementation prioritized simplicity and clarity over performance, we cannot expect these results to be very accurate. Moreover, while making the sentiment predictions for one paragraph we did not use the neighboring paragraphs for context which would have led to more accurate predictions. We encourage the reader to play around with the model and make some tweaks suggested in `Next Steps` and observe how the model performance changes."
   ]
  },
  {
   "cell_type": "markdown",
   "id": "0538740a",
   "metadata": {},
   "source": [
    "### Looking at our Neural Network from an ethical perspective"
   ]
  },
  {
   "cell_type": "markdown",
   "id": "63c2dddf",
   "metadata": {},
   "source": [
    "It's crucial to understand that accurately identifying a text's sentiment is not easy primarily because of the complex ways in which humans express sentiment, using irony, sarcasm, humor, or, in social media, abbreviation. Moreover neatly placing text into two categories: 'positive' and 'negative' can be problematic because it is being done without any context. Words or abbreviations can convey very different sentiments depending on age and location, none of which we took into account while building our model.\n",
    "\n",
    "Along with data, there are also growing concerns that data processing algorithms are influencing policy and daily lives in ways that are not transparent and introduce biases. Certain biases such as the [Inductive Bias](https://bit.ly/2WtTKIe) are essential to help a Machine Learning model generalize better, for example the LSTM we built earlier is biased towards preserving contextual information over long sequences which makes it so suitable for processing sequential data. The problem arises when [societal biases](https://hbr.org/2019/10/what-do-we-do-about-the-biases-in-ai) creep into algorithmic predictions. Optimizing Machine algorithms via methods like [hyperparameter tuning](https://en.wikipedia.org/wiki/Hyperparameter_optimization) can then further amplify these biases by learning every bit of information in the data. \n",
    "\n",
    "\n",
    "There are also cases where bias is only in the output and not the inputs (data, algorithm). For example, in sentiment analysis [accuracy tends to be higher on female-authored texts than on male-authored ones]( https://doi.org/10.3390/electronics9020374). End users of sentiment analysis should be aware that its small gender biases can affect the conclusions drawn from it and apply correction factors when necessary. Hence, it is important that demands for algorithmic accountability should include the ability to test the outputs of a system, including the ability to drill down into different user groups by gender, ethnicity and other characteristics, to identify, and hopefully suggest corrections for, system output biases."
   ]
  },
  {
   "cell_type": "markdown",
   "id": "6adb366e",
   "metadata": {},
   "source": [
    "### Next Steps"
   ]
  },
  {
   "cell_type": "markdown",
   "id": "72797d6e",
   "metadata": {},
   "source": [
    "You have learned how to build and train a simple Long Short Term Memory network from scratch using just NumPy to perform sentiment analysis.\n",
    "\n",
    "To further enhance and optimize your neural network model, you can consider one of a mixture of the following:\n",
    "\n",
    "- Alter the architecture by introducing multiple LSTM layers to make the network deeper.\n",
    "- Use a higher epoch size to train longer and add more regularization techniques, such as early stopping, to prevent overfitting.\n",
    "- Introduce a validation set for an unbiased evaluation of the model fit.\n",
    "- Apply batch normalization for faster and more stable training.\n",
    "- Tune other parameters, such as the learning rate and hidden layer size.\n",
    "- Initialize weights using [Xavier Initialization](https://d2l.ai/chapter_multilayer-perceptrons/numerical-stability-and-init.html#xavier-initialization) to prevent vanishing/exploding gradients instead of initializing them randomly.\n",
    "- Replace LSTM with a [Bidirectional LSTM](https://en.wikipedia.org/wiki/Bidirectional_recurrent_neural_networks) to use both left and right context for predicting sentiment.\n",
    "\n",
    "Nowadays, LSTMs have been replaced by the [Transformer](https://jalammar.github.io/illustrated-transformer/)( which uses [Attention](https://jalammar.github.io/visualizing-neural-machine-translation-mechanics-of-seq2seq-models-with-attention/) to tackle all the problems that plague an LSTM such as as lack of [transfer learning](https://en.wikipedia.org/wiki/Transfer_learning), lack of [parallel training](https://web.stanford.edu/~rezab/classes/cme323/S16/projects_reports/hedge_usmani.pdf) and a long gradient chain for lengthy sequences\n",
    "\n",
    "Building a neural network from scratch with NumPy is a great way to learn more about NumPy and about deep learning. However, for real-world applications you should use specialized frameworks — such as PyTorch, JAX, TensorFlow or MXNet — that provide NumPy-like APIs, have built-in automatic differentiation and GPU support, and are designed for high-performance numerical computing and machine learning.\n",
    "\n",
    "Finally, to know more about how ethics come into play when developing a machine learning model, you can refer to the following resources :\n",
    "- Data ethics resources by the Turing Institute. https://www.turing.ac.uk/research/data-ethics\n",
    "- Considering how artificial intelligence shifts power, an [article](https://www.nature.com/articles/d41586-020-02003-2) and [talk](https://slideslive.com/38923453/the-values-of-machine-learning) by Pratyusha Kalluri\n",
    "- More ethics resources on [this blog post](https://www.fast.ai/2018/09/24/ai-ethics-resources/) by Rachel Thomas and the [Radical AI podcast](https://www.radicalai.org/)"
   ]
  }
 ],
 "metadata": {
  "jupytext": {
   "formats": "md,ipynb"
  },
  "kernelspec": {
   "display_name": "Python 3 (ipykernel)",
   "language": "python",
   "name": "python3"
  },
  "language_info": {
   "codemirror_mode": {
    "name": "ipython",
    "version": 3
   },
   "file_extension": ".py",
   "mimetype": "text/x-python",
   "name": "python",
   "nbconvert_exporter": "python",
   "pygments_lexer": "ipython3",
   "version": "3.8.10"
  }
 },
 "nbformat": 4,
 "nbformat_minor": 5
}
